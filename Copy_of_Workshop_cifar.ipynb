{
  "cells": [
    {
      "cell_type": "markdown",
      "metadata": {
        "id": "oa2vWUgQX2XA"
      },
      "source": [
        "# Convolution networks"
      ]
    },
    {
      "cell_type": "code",
      "execution_count": 1,
      "metadata": {
        "colab": {
          "base_uri": "https://localhost:8080/"
        },
        "id": "Zgk41RpnX7Yd",
        "outputId": "f9a25774-4cb4-409f-b078-01f7b6707069"
      },
      "outputs": [
        {
          "name": "stdout",
          "output_type": "stream",
          "text": [
            "The screen cannot be set to the number of lines and columns specified.\n",
            "The screen cannot be set to the number of lines and columns specified.\n",
            "The screen cannot be set to the number of lines and columns specified.\n"
          ]
        }
      ],
      "source": [
        "#@title Imports (RUN ME!) { display-mode: \"form\" }\n",
        "\n",
        "!pip -q install pydot_ng\n",
        "!pip -q install graphviz\n",
        "!apt install graphviz > /dev/null\n",
        "\n",
        "from __future__ import absolute_import, division, print_function\n",
        "\n",
        "import tensorflow as tf\n",
        "import numpy as np\n",
        "import matplotlib.pyplot as plt\n",
        "from IPython import display\n",
        "%matplotlib inline\n",
        "\n"
      ]
    },
    {
      "cell_type": "markdown",
      "metadata": {
        "id": "iJq7Enz6YLiH"
      },
      "source": [
        "A convolutional layer maps an input *volume* (meaning, a 3-D input tensor, e.g. [width, height, channels]) to an output volume through a set of learnable filters, which make up the parameters of the layer. Every filter is small spatially (along width and height), but extends through the full depth of the input volume. (Eg: A filter in the first layer of a ConvNet might have size [5, 5, 3]). During the forward pass, we convolve (\"slide\") each filter across the width and height of the input volume and compute element-wise dot products between the entries of the filter and the input at any position. As we slide the filter over the width and height of the input volume we will produce a 2-dimensional activation map that gives the responses of that filter at every spatial position. Each convolutional layer will have such a set of filters, and each of them will produce a separate 2-dimensional activation map. We then stack these activation maps along the depth-dimension to produce the output volume.\n",
        "\n",
        "By using these filters which map to a small sub-volume of the input, we can to a large extent,control the parameter explosion that we would get with a (fully-connected) feed-forward network. This **parameter sharing** actually also tends to improve the performance of the model on inputs like natural images because it provides the model with some limited **translation invariance**. Translation invariance means that if the image (or a feature in the image) is translated (moved), the model will not be significantly affected. Think about why this is the case!\n",
        "\n",
        "The following animation illustrates these ideas, make sure you understand them!\n",
        "\n",
        "![Convolution Animation](https://i.stack.imgur.com/FjvuN.gif)"
      ]
    },
    {
      "cell_type": "markdown",
      "metadata": {
        "id": "lpHwuQmwYPpG"
      },
      "source": [
        "The hyper-parameters of a convolutional layer are as follows:\n",
        "* **Filters** defines the number of filters in the layer\n",
        "* **Kernel Size** defines the width and height of the filters (also called \"kernels\") in the layer. Note that kernels always have the same depth as the inputs to the layer.\n",
        "* **Stride** defines the number of pixels by which we move the filter when \"sliding\" it along the input volume. Typically this value would be 1, but values of 2 and 3 are also sometimes used.\n",
        "* **Padding** refers to the addition of 0-value pixels to the edges of the input volume along the width and height dimensions. In Tensorflow you can set this to \"VALID\", which essentially does no padding or \"SAME\" which pads the input such that the output width and height are the same as the input.\n",
        "\n",
        "Lets look at a very simple, dummy example to see how the values of the hyper-parameters affect the output size of a convolutional layer."
      ]
    },
    {
      "cell_type": "code",
      "execution_count": 4,
      "metadata": {
        "colab": {
          "base_uri": "https://localhost:8080/",
          "height": 283
        },
        "id": "7Ot_0QbAYEUN",
        "outputId": "c7c4f2a9-b71b-4e3c-e2e8-f57d751b6e10"
      },
      "outputs": [
        {
          "name": "stdout",
          "output_type": "stream",
          "text": [
            "Input shape: (10, 10, 3)\n"
          ]
        },
        {
          "data": {
            "image/png": "[encoded data removed]",
            "text/plain": [
              "<Figure size 432x288 with 1 Axes>"
            ]
          },
          "metadata": {
            "needs_background": "light"
          },
          "output_type": "display_data"
        }
      ],
      "source": [
        "# Create a random colour \"image\" of shape 10x10 with a depth of 3 (for red, green and blue)\n",
        "dummy_input = np.random.uniform(size=[10, 10, 3])\n",
        "fig, ax = plt.subplots(1, 1)\n",
        "plt.imshow(dummy_input)\n",
        "ax.grid(False)\n",
        "print('Input shape: {}'.format(dummy_input.shape))"
      ]
    },
    {
      "cell_type": "code",
      "execution_count": 3,
      "metadata": {
        "colab": {
          "base_uri": "https://localhost:8080/"
        },
        "id": "n6Z2yZFnZTDJ",
        "outputId": "a14ee12b-fc15-426a-a722-b079ecda51b2"
      },
      "outputs": [
        {
          "data": {
            "text/plain": [
              "array([[1.53208348, 1.77962496, 1.83900705, 1.86435621, 0.06734104,\n",
              "        0.30476438, 1.7724569 , 0.26480978, 1.88783642, 0.44495428,\n",
              "        0.36144938, 0.37331674],\n",
              "       [0.00393752, 1.427128  , 1.11150669, 1.30680882, 0.38877047,\n",
              "        0.76188566, 1.7077898 , 1.30462322, 0.36140462, 0.86036288,\n",
              "        0.38832669, 0.28445515],\n",
              "       [0.82288165, 1.1812321 , 1.50483063, 0.25806049, 1.6055888 ,\n",
              "        1.86988763, 1.8315864 , 0.81073168, 0.26822202, 1.99868989,\n",
              "        0.82159691, 1.64424382],\n",
              "       [1.18175068, 0.59007516, 1.34030167, 1.24274299, 1.40396331,\n",
              "        1.41265277, 1.61620688, 0.7481343 , 0.04919438, 1.42878923,\n",
              "        1.29737245, 1.38312412],\n",
              "       [0.93437144, 1.22371756, 0.65324638, 1.79640179, 0.62192839,\n",
              "        1.14951911, 1.9182249 , 0.38169299, 1.2312167 , 1.66168833,\n",
              "        1.48485958, 1.59394717],\n",
              "       [1.13844356, 1.16304214, 1.67381424, 1.55697169, 1.13461389,\n",
              "        0.22278834, 0.62863118, 1.5307853 , 1.57194403, 1.62076513,\n",
              "        0.20427227, 0.55212887],\n",
              "       [1.75734799, 0.14808206, 1.42562258, 0.85888287, 1.15515264,\n",
              "        1.32599278, 0.17984567, 0.90265712, 1.46289035, 1.08618205,\n",
              "        0.7560088 , 0.15864515],\n",
              "       [1.126816  , 0.23635951, 1.1655901 , 1.72315268, 1.39899028,\n",
              "        1.57680888, 0.46200613, 0.73902571, 0.10533068, 1.18422961,\n",
              "        1.07483691, 0.42362673],\n",
              "       [0.02981088, 1.83696238, 0.69295324, 1.2342314 , 0.08927617,\n",
              "        0.22725474, 1.84785333, 0.27819566, 0.10513634, 1.76862042,\n",
              "        1.0432673 , 0.84784661],\n",
              "       [1.11826424, 0.46967243, 1.22990073, 0.82958383, 1.5612144 ,\n",
              "        0.59736575, 1.88162565, 0.01442586, 1.74424618, 0.01948936,\n",
              "        1.74932935, 1.57213304],\n",
              "       [0.01355186, 1.72567184, 0.32097099, 1.62133072, 1.39121664,\n",
              "        1.70040454, 0.90033782, 1.941724  , 1.22030753, 0.95977755,\n",
              "        1.03686456, 1.71751507],\n",
              "       [1.69480531, 0.90351593, 0.32905439, 1.19349256, 1.89395648,\n",
              "        1.85050728, 1.32992229, 1.50393412, 0.78783979, 1.20963807,\n",
              "        1.61780757, 1.54112207]])"
            ]
          },
          "execution_count": 3,
          "metadata": {},
          "output_type": "execute_result"
        }
      ],
      "source": [
        "num = np.random.uniform(low=0.0, high=2.0, size=[12,12])\n",
        "num"
      ]
    },
    {
      "cell_type": "code",
      "execution_count": 8,
      "metadata": {
        "colab": {
          "base_uri": "https://localhost:8080/"
        },
        "id": "zkSuHXr8YWH-",
        "outputId": "72c2a1f6-2c64-4956-a387-f7230a497c49"
      },
      "outputs": [
        {
          "name": "stdout",
          "output_type": "stream",
          "text": [
            "The output dimension is: (1, 10, 10, 3)\n"
          ]
        },
        {
          "data": {
            "text/plain": [
              "[1, 8, 8, 7]"
            ]
          },
          "execution_count": 8,
          "metadata": {},
          "output_type": "execute_result"
        }
      ],
      "source": [
        "#@title Convolutional layer parameters {run: \"auto\"}\n",
        "filters = 7  #@param { type: \"slider\", min:0, max: 10, step: 1 }\n",
        "kernel_size = 3 #@param { type: \"slider\", min:1, max: 10, step: 1 }\n",
        "stride = 1 #@param {type:\"slider\", min:1, max:5, step:1}\n",
        "\n",
        "conv_layer = tf.keras.layers.Conv2D(\n",
        "    filters=filters, \n",
        "    kernel_size=kernel_size, \n",
        "    strides=stride,\n",
        "    padding=\"valid\",\n",
        "    input_shape=[10, 10, 3])\n",
        "\n",
        "# Convert the image to a tensor and add an extra batch dimension which\n",
        "# the convolutional layer expects.\n",
        "input_tensor = tf.convert_to_tensor(dummy_input[None, :, :, :])\n",
        "convoluted = conv_layer(input_tensor)\n",
        "\n",
        "print('The output dimension is:', input_tensor.shape)\n",
        "list([d for d in convoluted.shape])"
      ]
    },
    {
      "cell_type": "markdown",
      "metadata": {
        "id": "XDaWhIJgYgCl"
      },
      "source": [
        "### (Max) Pooling\n",
        "A pooling layer reduces the spatial size of the representation. There are different reasons why we may want to do this. One is to reduce the number of parameters in the network. Imagine a convnet for the MNIST dataset. If the feature tensor produced by the final conv/pool/relu layer was say, of size 20x20 and had 100 feature channels, the final dense layer would have 20*20*100*10=400k parameters. However if we down-sampled that layer to a 4x4 spatial size, we would have only 20k parameters. A big difference!\n",
        "\n",
        "Another reason is that we want later features (deeper int he network) to have larger *receptive fields* (input regions that they look at), in order to represent bigger objects and object parts for instance. In particular, pooling stride gives later features much larger receptive fields so that they can effectively combine smaller features together.\n",
        "\n",
        "A pooling layer has no trainable parameters itself. It applies some 2-D aggegation operation (usually a max(), but others like average() may also be used) to regions of the input volume. This is done independently for each depth dimension of the input. For example, a 2x2 max pooling operation with a stride of 2, downsamples every depth slice of the input by 2 along both the width and height.\n",
        "\n",
        "#### Question\n",
        "Do 2x2 max-pooling by hand, with a stride of 2, on the following 2D input. What is the size of the output?\n",
        "\n",
        "\\begin{bmatrix}\n",
        "  9 & 5 & 4 & 5 & 6 & 4 \\\\\n",
        "  6 & 6 & 3 & 5 & 8 & 2 \\\\\n",
        "  4 & 6 & 9 & 1 & 3 & 6 \\\\\n",
        "  9 & 7 & 1 & 5 & 8 & 1 \\\\\n",
        "  4 & 9 & 9 & 5 & 7 & 3 \\\\\n",
        "  7 & 3 & 6 & 4 & 9 & 1 \n",
        "\\end{bmatrix}\n",
        "\n"
      ]
    },
    {
      "cell_type": "markdown",
      "metadata": {
        "id": "CoN6IuZkdzj7"
      },
      "source": [
        "# Image Classification with CNN using Keras"
      ]
    },
    {
      "cell_type": "markdown",
      "metadata": {
        "id": "L9VQABpSdzj_"
      },
      "source": [
        "# Task 1: Import Libraries"
      ]
    },
    {
      "cell_type": "code",
      "execution_count": 9,
      "metadata": {
        "colab": {
          "base_uri": "https://localhost:8080/"
        },
        "id": "ZRqTddh9dzkC",
        "outputId": "e6f49313-0c97-4eac-bb82-78a3b99f7ab4"
      },
      "outputs": [
        {
          "name": "stdout",
          "output_type": "stream",
          "text": [
            "TensorFlow version: 2.11.0\n",
            "WARNING:tensorflow:From C:\\Users\\abedn\\AppData\\Local\\Temp\\ipykernel_58852\\1596216831.py:12: is_gpu_available (from tensorflow.python.framework.test_util) is deprecated and will be removed in a future version.\n",
            "Instructions for updating:\n",
            "Use `tf.config.list_physical_devices('GPU')` instead.\n",
            "Is using GPU? False\n"
          ]
        }
      ],
      "source": [
        "import tensorflow as tf\n",
        "import os\n",
        "import numpy as np\n",
        "\n",
        "from matplotlib import pyplot as plt\n",
        "%matplotlib inline\n",
        "\n",
        "if not os.path.isdir('models'):\n",
        "    os.mkdir('models')\n",
        "    \n",
        "print('TensorFlow version:', tf.__version__)\n",
        "print('Is using GPU?', tf.test.is_gpu_available())"
      ]
    },
    {
      "cell_type": "code",
      "execution_count": null,
      "metadata": {
        "colab": {
          "base_uri": "https://localhost:8080/"
        },
        "id": "Utch2exAb0V5",
        "outputId": "87f8110f-1ed2-4ac9-c039-c9171c1ee955"
      },
      "outputs": [
        {
          "data": {
            "text/plain": [
              "array([10])"
            ]
          },
          "execution_count": 12,
          "metadata": {},
          "output_type": "execute_result"
        }
      ],
      "source": [
        "arr = np.array([2,3,4,5,10])\n",
        "\n",
        "b = np.where(arr > 5)\n",
        "arr[b]"
      ]
    },
    {
      "cell_type": "markdown",
      "metadata": {
        "id": "3wWOT5QjdzkW"
      },
      "source": [
        "# Task 2: Preprocess Data"
      ]
    },
    {
      "cell_type": "code",
      "execution_count": 10,
      "metadata": {
        "id": "vlKl5AGgdzkZ"
      },
      "outputs": [],
      "source": [
        "def get_three_classes(x, y):\n",
        "  # get 3 classes from the available 10 classes\n",
        "    indices_0, _ = np.where(y == 0.)\n",
        "    indices_1, _ = np.where(y == 1.)\n",
        "    indices_2, _ = np.where(y == 2.)\n",
        "\n",
        "    indices = np.concatenate([indices_0, indices_1, indices_2], axis=0)\n",
        "    \n",
        "    x = x[indices]\n",
        "    y = y[indices]\n",
        "    \n",
        "    count = x.shape[0]\n",
        "    indices = np.random.choice(range(count), count, replace=False)\n",
        "    \n",
        "    x = x[indices]\n",
        "    y = y[indices]\n",
        "    \n",
        "    y = tf.keras.utils.to_categorical(y)\n",
        "    \n",
        "    return x, y"
      ]
    },
    {
      "cell_type": "code",
      "execution_count": null,
      "metadata": {
        "colab": {
          "base_uri": "https://localhost:8080/"
        },
        "id": "gJGZ4ExuhdjJ",
        "outputId": "ab85a44b-a39e-43b2-f059-9c4d00f8338a"
      },
      "outputs": [
        {
          "data": {
            "text/plain": [
              "array([6, 2, 9, 7, 5, 0, 1, 3, 8, 4])"
            ]
          },
          "execution_count": 32,
          "metadata": {},
          "output_type": "execute_result"
        }
      ],
      "source": [
        "import random\n",
        "\n",
        "random.choice([2,3,4])\n",
        "np.random.choice(range(10), 10, replace=False)"
      ]
    },
    {
      "cell_type": "code",
      "execution_count": 11,
      "metadata": {
        "colab": {
          "base_uri": "https://localhost:8080/"
        },
        "id": "Lt6u1D-edzkj",
        "outputId": "44063141-c702-4435-d926-630b1542d0c7"
      },
      "outputs": [],
      "source": [
        "import ssl\n",
        "ssl._create_default_https_context = ssl._create_unverified_context\n",
        "(x_train, y_train), (x_test, y_test) = tf.keras.datasets.cifar10.load_data()"
      ]
    },
    {
      "cell_type": "code",
      "execution_count": 12,
      "metadata": {
        "id": "4bGCWJcshere"
      },
      "outputs": [],
      "source": [
        "x_train, y_train = get_three_classes(x_train, y_train)\n",
        "x_test, y_test = get_three_classes(x_test, y_test)"
      ]
    },
    {
      "cell_type": "code",
      "execution_count": 35,
      "metadata": {},
      "outputs": [
        {
          "data": {
            "text/plain": [
              "(3000, 32, 32, 3)"
            ]
          },
          "execution_count": 35,
          "metadata": {},
          "output_type": "execute_result"
        }
      ],
      "source": [
        "x_test.shape"
      ]
    },
    {
      "cell_type": "markdown",
      "metadata": {
        "id": "mPJRLyiWdzks"
      },
      "source": [
        "# Task 3: Visualize Examples"
      ]
    },
    {
      "cell_type": "code",
      "execution_count": 17,
      "metadata": {
        "id": "fM7gZ1K3dzku"
      },
      "outputs": [
        {
          "ename": "ValueError",
          "evalue": "Cannot take a larger sample than population when 'replace=False'",
          "output_type": "error",
          "traceback": [
            "\u001b[1;31m---------------------------------------------------------------------------\u001b[0m",
            "\u001b[1;31mValueError\u001b[0m                                Traceback (most recent call last)",
            "\u001b[1;32mc:\\Users\\abedn\\Downloads\\Deep_learning_model_deployment\\Copy_of_Workshop_cifar.ipynb Cell 19\u001b[0m in \u001b[0;36m<cell line: 2>\u001b[1;34m()\u001b[0m\n\u001b[0;32m      <a href='vscode-notebook-cell:/c%3A/Users/abedn/Downloads/Deep_learning_model_deployment/Copy_of_Workshop_cifar.ipynb#X24sZmlsZQ%3D%3D?line=0'>1</a>\u001b[0m class_names \u001b[39m=\u001b[39m [\u001b[39m'\u001b[39m\u001b[39maeroplane\u001b[39m\u001b[39m'\u001b[39m, \u001b[39m'\u001b[39m\u001b[39mcar\u001b[39m\u001b[39m'\u001b[39m, \u001b[39m'\u001b[39m\u001b[39mbird\u001b[39m\u001b[39m'\u001b[39m]\n\u001b[1;32m----> <a href='vscode-notebook-cell:/c%3A/Users/abedn/Downloads/Deep_learning_model_deployment/Copy_of_Workshop_cifar.ipynb#X24sZmlsZQ%3D%3D?line=1'>2</a>\u001b[0m np\u001b[39m.\u001b[39;49mrandom\u001b[39m.\u001b[39;49mchoice(\u001b[39mrange\u001b[39;49m(np\u001b[39m.\u001b[39;49marray([\u001b[39m3\u001b[39;49m,\u001b[39m4\u001b[39;49m,\u001b[39m5\u001b[39;49m])\u001b[39m.\u001b[39;49mshape[\u001b[39m0\u001b[39;49m]), \u001b[39m10\u001b[39;49m, replace\u001b[39m=\u001b[39;49m\u001b[39mFalse\u001b[39;49;00m)\n",
            "File \u001b[1;32mmtrand.pyx:965\u001b[0m, in \u001b[0;36mnumpy.random.mtrand.RandomState.choice\u001b[1;34m()\u001b[0m\n",
            "\u001b[1;31mValueError\u001b[0m: Cannot take a larger sample than population when 'replace=False'"
          ]
        }
      ],
      "source": [
        "class_names = ['aeroplane', 'car', 'bird']\n",
        "np.random.choice(range(np.array([3,4,5]).shape[0]), 10, replace=False)"
      ]
    },
    {
      "cell_type": "code",
      "execution_count": 19,
      "metadata": {
        "id": "a7NM2o8Idzk6"
      },
      "outputs": [],
      "source": [
        "def show_examples(x,y,pred):\n",
        "  indices = np.random.choice(range(x.shape[0]), 10, replace=False)\n",
        "  x = x[indices]\n",
        "  y = y[indices]\n",
        "  pred = pred[indices]\n",
        "  plt.figure(figsize=(10,5))\n",
        "  for i in range(10):\n",
        "    plt.subplot(2,5,1+i)\n",
        "    plt.imshow(x[i])\n",
        "    col = 'green' if np.argmax(y[i])==np.argmax(pred[i]) else 'red'\n",
        "    plt.xlabel(class_names[np.argmax(pred[i])], color=col)\n",
        "  plt.show()"
      ]
    },
    {
      "cell_type": "code",
      "execution_count": 20,
      "metadata": {
        "colab": {
          "base_uri": "https://localhost:8080/",
          "height": 309
        },
        "id": "jz5xiZoEhF_I",
        "outputId": "06dac65b-9064-4989-f8fb-bf5648e5f122"
      },
      "outputs": [
        {
          "data": {
            "image/png": "[encoded data removed]",
            "text/plain": [
              "<Figure size 720x360 with 10 Axes>"
            ]
          },
          "metadata": {
            "needs_background": "light"
          },
          "output_type": "display_data"
        }
      ],
      "source": [
        "show_examples(x_train, y_train, y_train)"
      ]
    },
    {
      "cell_type": "markdown",
      "metadata": {
        "id": "urdwXFXIdzlE"
      },
      "source": [
        "# Task 4: Create Model"
      ]
    },
    {
      "cell_type": "code",
      "execution_count": 21,
      "metadata": {
        "id": "_WB1Z02MdzlF"
      },
      "outputs": [],
      "source": [
        "from tensorflow.keras.layers import Conv2D, MaxPooling2D, BatchNormalization\n",
        "from tensorflow.keras.layers import Dropout, Flatten, Input, Dense"
      ]
    },
    {
      "cell_type": "code",
      "execution_count": 22,
      "metadata": {
        "id": "xbZ-R7QFjnj6"
      },
      "outputs": [],
      "source": [
        "def create_model():\n",
        "  def add_conv_block(model, num_filters):\n",
        "    model.add(Conv2D(num_filters, 3, activation='relu', padding='same'))\n",
        "    model.add(BatchNormalization())\n",
        "    model.add(Conv2D(num_filters, 3, activation='relu'))\n",
        "    model.add(MaxPooling2D(pool_size=2))\n",
        "    model.add(Dropout(0.5))\n",
        "    return model\n",
        "  model =tf.keras.models.Sequential()\n",
        "  model.add(Input(shape=(32,32,3)))\n",
        "  model = add_conv_block(model, 32)\n",
        "  model = add_conv_block(model, 64)\n",
        "  model = add_conv_block(model, 128)\n",
        "  model.add(Flatten())\n",
        "  model.add(Dense(3, activation='softmax'))\n",
        "  model.compile(loss='categorical_crossentropy', optimizer=\"adam\", metrics=['accuracy'])\n",
        "  return model\n",
        "\n",
        "  "
      ]
    },
    {
      "cell_type": "code",
      "execution_count": 23,
      "metadata": {
        "colab": {
          "base_uri": "https://localhost:8080/"
        },
        "id": "ng-JQ_5zmogn",
        "outputId": "3323fe97-0c61-4c0b-b2ff-cabdb5389150"
      },
      "outputs": [
        {
          "name": "stdout",
          "output_type": "stream",
          "text": [
            "Model: \"sequential\"\n",
            "_________________________________________________________________\n",
            " Layer (type)                Output Shape              Param #   \n",
            "=================================================================\n",
            " conv2d_3 (Conv2D)           (None, 32, 32, 32)        896       \n",
            "                                                                 \n",
            " batch_normalization (BatchN  (None, 32, 32, 32)       128       \n",
            " ormalization)                                                   \n",
            "                                                                 \n",
            " conv2d_4 (Conv2D)           (None, 30, 30, 32)        9248      \n",
            "                                                                 \n",
            " max_pooling2d (MaxPooling2D  (None, 15, 15, 32)       0         \n",
            " )                                                               \n",
            "                                                                 \n",
            " dropout (Dropout)           (None, 15, 15, 32)        0         \n",
            "                                                                 \n",
            " conv2d_5 (Conv2D)           (None, 15, 15, 64)        18496     \n",
            "                                                                 \n",
            " batch_normalization_1 (Batc  (None, 15, 15, 64)       256       \n",
            " hNormalization)                                                 \n",
            "                                                                 \n",
            " conv2d_6 (Conv2D)           (None, 13, 13, 64)        36928     \n",
            "                                                                 \n",
            " max_pooling2d_1 (MaxPooling  (None, 6, 6, 64)         0         \n",
            " 2D)                                                             \n",
            "                                                                 \n",
            " dropout_1 (Dropout)         (None, 6, 6, 64)          0         \n",
            "                                                                 \n",
            " conv2d_7 (Conv2D)           (None, 6, 6, 128)         73856     \n",
            "                                                                 \n",
            " batch_normalization_2 (Batc  (None, 6, 6, 128)        512       \n",
            " hNormalization)                                                 \n",
            "                                                                 \n",
            " conv2d_8 (Conv2D)           (None, 4, 4, 128)         147584    \n",
            "                                                                 \n",
            " max_pooling2d_2 (MaxPooling  (None, 2, 2, 128)        0         \n",
            " 2D)                                                             \n",
            "                                                                 \n",
            " dropout_2 (Dropout)         (None, 2, 2, 128)         0         \n",
            "                                                                 \n",
            " flatten (Flatten)           (None, 512)               0         \n",
            "                                                                 \n",
            " dense (Dense)               (None, 3)                 1539      \n",
            "                                                                 \n",
            "=================================================================\n",
            "Total params: 289,443\n",
            "Trainable params: 288,995\n",
            "Non-trainable params: 448\n",
            "_________________________________________________________________\n"
          ]
        }
      ],
      "source": [
        "model = create_model()\n",
        "model.summary()"
      ]
    },
    {
      "cell_type": "markdown",
      "metadata": {
        "id": "e31UteYcdzlN"
      },
      "source": [
        "# Task 5: Train the Model"
      ]
    },
    {
      "cell_type": "code",
      "execution_count": 24,
      "metadata": {
        "colab": {
          "base_uri": "https://localhost:8080/"
        },
        "id": "dEo2OTiXdzlO",
        "outputId": "3bd115c3-2f5e-455b-aac3-599e493804ef"
      },
      "outputs": [
        {
          "name": "stdout",
          "output_type": "stream",
          "text": [
            "Epoch 1/10\n",
            "118/118 [==============================] - 47s 365ms/step - loss: 0.8974 - accuracy: 0.6699 - val_loss: 2.3959 - val_accuracy: 0.3333\n",
            "Epoch 2/10\n",
            "118/118 [==============================] - 45s 383ms/step - loss: 0.5558 - accuracy: 0.7773 - val_loss: 2.7134 - val_accuracy: 0.4637\n",
            "Epoch 3/10\n",
            "118/118 [==============================] - 48s 408ms/step - loss: 0.4895 - accuracy: 0.8055 - val_loss: 2.0823 - val_accuracy: 0.5080\n",
            "Epoch 4/10\n",
            "118/118 [==============================] - 47s 396ms/step - loss: 0.4562 - accuracy: 0.8181 - val_loss: 1.7334 - val_accuracy: 0.5523\n",
            "Epoch 5/10\n",
            "118/118 [==============================] - 51s 436ms/step - loss: 0.4101 - accuracy: 0.8359 - val_loss: 0.7777 - val_accuracy: 0.7220\n",
            "Epoch 6/10\n",
            "118/118 [==============================] - 53s 451ms/step - loss: 0.3849 - accuracy: 0.8507 - val_loss: 0.7710 - val_accuracy: 0.7350\n",
            "Epoch 7/10\n",
            "118/118 [==============================] - 53s 452ms/step - loss: 0.3515 - accuracy: 0.8614 - val_loss: 0.7233 - val_accuracy: 0.7397\n",
            "Epoch 8/10\n",
            "118/118 [==============================] - 54s 455ms/step - loss: 0.3317 - accuracy: 0.8719 - val_loss: 0.5937 - val_accuracy: 0.7843\n",
            "Epoch 9/10\n",
            "118/118 [==============================] - 56s 472ms/step - loss: 0.3077 - accuracy: 0.8810 - val_loss: 0.3412 - val_accuracy: 0.8687\n",
            "Epoch 10/10\n",
            "118/118 [==============================] - 59s 501ms/step - loss: 0.2853 - accuracy: 0.8897 - val_loss: 0.2805 - val_accuracy: 0.8910\n"
          ]
        }
      ],
      "source": [
        "history = model.fit(x_train/255., y_train, validation_data=(x_test/255., y_test), epochs=10, batch_size=128,\n",
        "                    callbacks=tf.keras.callbacks.EarlyStopping(monitor='val_accuracy', patience=3))"
      ]
    },
    {
      "cell_type": "code",
      "execution_count": 33,
      "metadata": {},
      "outputs": [
        {
          "name": "stdout",
          "output_type": "stream",
          "text": [
            "Keras weights file (<HDF5 file \"variables.h5\" (mode r+)>) saving:\n",
            "...layers\\batch_normalization\n",
            "......vars\n",
            ".........0\n",
            ".........1\n",
            ".........2\n",
            ".........3\n",
            "...layers\\batch_normalization_1\n",
            "......vars\n",
            ".........0\n",
            ".........1\n",
            ".........2\n",
            ".........3\n",
            "...layers\\batch_normalization_2\n",
            "......vars\n",
            ".........0\n",
            ".........1\n",
            ".........2\n",
            ".........3\n",
            "...layers\\conv2d\n",
            "......vars\n",
            ".........0\n",
            ".........1\n",
            "...layers\\conv2d_1\n",
            "......vars\n",
            ".........0\n",
            ".........1\n",
            "...layers\\conv2d_2\n",
            "......vars\n",
            ".........0\n",
            ".........1\n",
            "...layers\\conv2d_3\n",
            "......vars\n",
            ".........0\n",
            ".........1\n",
            "...layers\\conv2d_4\n",
            "......vars\n",
            ".........0\n",
            ".........1\n",
            "...layers\\conv2d_5\n",
            "......vars\n",
            ".........0\n",
            ".........1\n",
            "...layers\\dense\n",
            "......vars\n",
            ".........0\n",
            ".........1\n",
            "...layers\\dropout\n",
            "......vars\n",
            "...layers\\dropout_1\n",
            "......vars\n",
            "...layers\\dropout_2\n",
            "......vars\n",
            "...layers\\flatten\n",
            "......vars\n",
            "...layers\\max_pooling2d\n",
            "......vars\n",
            "...layers\\max_pooling2d_1\n",
            "......vars\n",
            "...layers\\max_pooling2d_2\n",
            "......vars\n",
            "...metrics\\mean\n",
            "......vars\n",
            ".........0\n",
            ".........1\n",
            "...metrics\\mean_metric_wrapper\n",
            "......vars\n",
            ".........0\n",
            ".........1\n",
            "...optimizer\n",
            "......vars\n",
            ".........0\n",
            ".........1\n",
            ".........10\n",
            ".........11\n",
            ".........12\n",
            ".........13\n",
            ".........14\n",
            ".........15\n",
            ".........16\n",
            ".........17\n",
            ".........18\n",
            ".........19\n",
            ".........2\n",
            ".........20\n",
            ".........21\n",
            ".........22\n",
            ".........23\n",
            ".........24\n",
            ".........25\n",
            ".........26\n",
            ".........27\n",
            ".........28\n",
            ".........29\n",
            ".........3\n",
            ".........30\n",
            ".........31\n",
            ".........32\n",
            ".........33\n",
            ".........34\n",
            ".........35\n",
            ".........36\n",
            ".........37\n",
            ".........38\n",
            ".........39\n",
            ".........4\n",
            ".........40\n",
            ".........5\n",
            ".........6\n",
            ".........7\n",
            ".........8\n",
            ".........9\n",
            "...vars\n",
            "Keras model archive saving:\n",
            "File Name                                             Modified             Size\n",
            "config.json                                    2023-01-20 15:56:18         7164\n",
            "metadata.json                                  2023-01-20 15:56:18           64\n",
            "variables.h5                                   2023-01-20 15:56:18      3535464\n",
            "Keras model archive loading:\n",
            "File Name                                             Modified             Size\n",
            "config.json                                    2023-01-20 15:56:18         7164\n",
            "metadata.json                                  2023-01-20 15:56:18           64\n",
            "variables.h5                                   2023-01-20 15:56:18      3535464\n",
            "Keras weights file (<HDF5 file \"variables.h5\" (mode r)>) loading:\n",
            "...layers\\batch_normalization\n",
            "......vars\n",
            ".........0\n",
            ".........1\n",
            ".........2\n",
            ".........3\n",
            "...layers\\batch_normalization_1\n",
            "......vars\n",
            ".........0\n",
            ".........1\n",
            ".........2\n",
            ".........3\n",
            "...layers\\batch_normalization_2\n",
            "......vars\n",
            ".........0\n",
            ".........1\n",
            ".........2\n",
            ".........3\n",
            "...layers\\conv2d\n",
            "......vars\n",
            ".........0\n",
            ".........1\n",
            "...layers\\conv2d_1\n",
            "......vars\n",
            ".........0\n",
            ".........1\n",
            "...layers\\conv2d_2\n",
            "......vars\n",
            ".........0\n",
            ".........1\n",
            "...layers\\conv2d_3\n",
            "......vars\n",
            ".........0\n",
            ".........1\n",
            "...layers\\conv2d_4\n",
            "......vars\n",
            ".........0\n",
            ".........1\n",
            "...layers\\conv2d_5\n",
            "......vars\n",
            ".........0\n",
            ".........1\n",
            "...layers\\dense\n",
            "......vars\n",
            ".........0\n",
            ".........1\n",
            "...layers\\dropout\n",
            "......vars\n",
            "...layers\\dropout_1\n",
            "......vars\n",
            "...layers\\dropout_2\n",
            "......vars\n",
            "...layers\\flatten\n",
            "......vars\n",
            "...layers\\max_pooling2d\n",
            "......vars\n",
            "...layers\\max_pooling2d_1\n",
            "......vars\n",
            "...layers\\max_pooling2d_2\n",
            "......vars\n",
            "...metrics\\mean\n",
            "......vars\n",
            ".........0\n",
            ".........1\n",
            "...metrics\\mean_metric_wrapper\n",
            "......vars\n",
            ".........0\n",
            ".........1\n",
            "...optimizer\n",
            "......vars\n",
            ".........0\n",
            ".........1\n",
            ".........10\n",
            ".........11\n",
            ".........12\n",
            ".........13\n",
            ".........14\n",
            ".........15\n",
            ".........16\n",
            ".........17\n",
            ".........18\n",
            ".........19\n",
            ".........2\n",
            ".........20\n",
            ".........21\n",
            ".........22\n",
            ".........23\n",
            ".........24\n",
            ".........25\n",
            ".........26\n",
            ".........27\n",
            ".........28\n",
            ".........29\n",
            ".........3\n",
            ".........30\n",
            ".........31\n",
            ".........32\n",
            ".........33\n",
            ".........34\n",
            ".........35\n",
            ".........36\n",
            ".........37\n",
            ".........38\n",
            ".........39\n",
            ".........4\n",
            ".........40\n",
            ".........5\n",
            ".........6\n",
            ".........7\n",
            ".........8\n",
            ".........9\n",
            "...vars\n"
          ]
        }
      ],
      "source": [
        "import pickle\n",
        "# pickle_out = open('image_model.pkl', 'wb')\n",
        "# pickle.dump(model, pickle_out)\n",
        "\n",
        "# loaded_model = pickle.load(open('image_class_model.pkl', 'rb'))\n",
        "\n",
        "# filename = 'image_class_model.pkl'\n",
        "# with open(filename, 'rb') as f:\n",
        "#     class_dict = pickle.load(f)\n",
        "\n",
        "from joblib import dump, load\n",
        "dump(model, 'image_class.joblib')\n",
        "clf = load('image_class.joblib')"
      ]
    },
    {
      "cell_type": "code",
      "execution_count": 34,
      "metadata": {},
      "outputs": [
        {
          "name": "stdout",
          "output_type": "stream",
          "text": [
            "94/94 [==============================] - 3s 26ms/step\n"
          ]
        },
        {
          "data": {
            "image/png": "[encoded data removed]",
            "text/plain": [
              "<Figure size 720x360 with 10 Axes>"
            ]
          },
          "metadata": {
            "needs_background": "light"
          },
          "output_type": "display_data"
        }
      ],
      "source": [
        "test_pred = clf.predict(x_test/255)\n",
        "show_examples(x_test, y_test, test_pred)"
      ]
    },
    {
      "cell_type": "markdown",
      "metadata": {
        "id": "3cZInF_adzlV"
      },
      "source": [
        "# Task 6: Final Predictions"
      ]
    },
    {
      "cell_type": "code",
      "execution_count": 25,
      "metadata": {
        "colab": {
          "base_uri": "https://localhost:8080/",
          "height": 265
        },
        "id": "dvh7SqjjdzlW",
        "outputId": "c9edfa7e-81bb-4386-f571-f7437265e3ce"
      },
      "outputs": [
        {
          "data": {
            "image/png": "[encoded data removed]",
            "text/plain": [
              "<Figure size 432x288 with 1 Axes>"
            ]
          },
          "metadata": {
            "needs_background": "light"
          },
          "output_type": "display_data"
        }
      ],
      "source": [
        "acc = history.history[\"accuracy\"]\n",
        "val_acc = history.history[\"val_accuracy\"]\n",
        "plt.plot(range(len(acc)), acc, label=\"Training\")\n",
        "plt.plot(range(len(acc)), val_acc, label=\"Validation\")\n",
        "plt.legend()\n",
        "plt.show()\n"
      ]
    },
    {
      "cell_type": "code",
      "execution_count": 42,
      "metadata": {
        "colab": {
          "base_uri": "https://localhost:8080/",
          "height": 327
        },
        "id": "xPQzsLVHdzlh",
        "outputId": "6a53aa6e-4e01-4d9c-c536-ed68a5c5338e"
      },
      "outputs": [
        {
          "name": "stdout",
          "output_type": "stream",
          "text": [
            "(3000, 32, 32, 3)\n"
          ]
        }
      ],
      "source": [
        "# pred = model.predict(x_test/255.)\n",
        "# show_examples(x_test, y_test, pred)\n",
        "# print(pred[0])\n",
        "\n",
        "new_x_test = x_test/255.\n",
        "# print(new_x_test)\n",
        "\n",
        "print(new_x_test.shape)"
      ]
    },
    {
      "cell_type": "code",
      "execution_count": null,
      "metadata": {
        "id": "fY2udZtLdzlo"
      },
      "outputs": [],
      "source": []
    }
  ],
  "metadata": {
    "accelerator": "GPU",
    "colab": {
      "provenance": []
    },
    "gpuClass": "standard",
    "kernelspec": {
      "display_name": "venv",
      "language": "python",
      "name": "python3"
    },
    "language_info": {
      "codemirror_mode": {
        "name": "ipython",
        "version": 3
      },
      "file_extension": ".py",
      "mimetype": "text/x-python",
      "name": "python",
      "nbconvert_exporter": "python",
      "pygments_lexer": "ipython3",
      "version": "3.10.8 (tags/v3.10.8:aaaf517, Oct 11 2022, 16:50:30) [MSC v.1933 64 bit (AMD64)]"
    },
    "vscode": {
      "interpreter": {
        "hash": "c163ad953b6be5504f063f5b57819323fbc3ed2af1a014a4bc0ccec90437a293"
      }
    }
  },
  "nbformat": 4,
  "nbformat_minor": 0
}
